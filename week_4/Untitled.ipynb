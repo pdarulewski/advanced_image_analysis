{
 "cells": [
  {
   "cell_type": "code",
   "execution_count": null,
   "metadata": {
    "pycharm": {
     "is_executing": false
    }
   },
   "outputs": [],
   "source": [
    "import cv2\n",
    "import matplotlib.pyplot as plt\n",
    "from matplotlib import transforms\n",
    "import numpy as np\n",
    "import pysift as sift"
   ]
  },
  {
   "cell_type": "code",
   "execution_count": null,
   "metadata": {
    "pycharm": {
     "is_executing": true
    }
   },
   "outputs": [],
   "source": [
    "im_org = cv2.imread(\"EX_4_data/CT_lab_low_res.png\", cv2.IMREAD_GRAYSCALE)\n",
    "kp_org, dsc_org = sift.computeKeypointsAndDescriptors(im_org)"
   ]
  },
  {
   "cell_type": "code",
   "execution_count": null,
   "metadata": {},
   "outputs": [],
   "source": [
    "im_rotated = cv2.imread(\"EX_4_data/CT_lab_med_res.png\", cv2.IMREAD_GRAYSCALE)\n",
    "kp_rotated, dsc_rotated = sift.computeKeypointsAndDescriptors(im_rotated)"
   ]
  },
  {
   "cell_type": "code",
   "execution_count": null,
   "metadata": {},
   "outputs": [],
   "source": [
    "im_org_kp = cv2.drawKeypoints(im_org, kp_org, None, flags=cv2.DRAW_MATCHES_FLAGS_DRAW_RICH_KEYPOINTS)\n",
    "plt.imshow(im_org_kp)"
   ]
  },
  {
   "cell_type": "code",
   "execution_count": null,
   "metadata": {},
   "outputs": [],
   "source": [
    "# Create function to normalize and threshold descriptor\n",
    "def normalizeAndThresh(des):\n",
    "    # Normalize to unit length\n",
    "    des = des / np.sqrt(np.sum(des ** 2))\n",
    "    \n",
    "    # thresholding\n",
    "    des[des > 0.2] = 0.2\n",
    "    \n",
    "    # Normalizing again\n",
    "    des = des/np.sqrt(np.sum(des ** 2))\n",
    "    return des"
   ]
  },
  {
   "cell_type": "code",
   "execution_count": null,
   "metadata": {},
   "outputs": [],
   "source": [
    "# Match features\n",
    "NO_FILTERING = 0\n",
    "FILTERING = 1\n",
    "SYMMETRY = 2\n",
    "\n",
    "def match_images(im1, im2, match_type):\n",
    "    if match_type == NO_FILTERING:\n",
    "        matcher = cv2.BFMatcher(cv2.NORM_L2, crossCheck=False)\n",
    "        matches = matcher.match(im1,im2)\n",
    "        \n",
    "    elif match_type == FILTERING:\n",
    "        matcher = cv2.BFMatcher()\n",
    "        matches = np.array(matcher.knnMatch(im1,im2, k=2))\n",
    "        eta = np.array([match[0].distance / match[1].distance for match in matches])\n",
    "        matches = matches[eta < 0.6, 0]\n",
    "        \n",
    "    elif match_type == SYMMETRY:\n",
    "        matcher = cv2.BFMatcher(cv2.NORM_L2, crossCheck=True)\n",
    "        matches = matcher.match(im1,im2)\n",
    "        \n",
    "    return sorted(matches, key = lambda x: x.distance)"
   ]
  },
  {
   "cell_type": "code",
   "execution_count": null,
   "metadata": {},
   "outputs": [],
   "source": [
    "# Normalize and threshold descriptors\n",
    "dsc_org_normalized = normalizeAndThresh(dsc_org)\n",
    "dsc_rotated_normalized = normalizeAndThresh(dsc_rotated)\n",
    "\n",
    "# Match image keypoints based on their descriptor \n",
    "matches = match_images(dsc_org_normalized, dsc_rotated_normalized, FILTERING)\n",
    "\n",
    "# Illustrate matches\n",
    "plt.figure(figsize=(15,15))\n",
    "plt.imshow(cv2.drawMatches(im_org, kp_org, im_rotated, kp_rotated, matches[:10], None, flags=2))\n",
    "plt.title('Matches purely based on euclidean distance')\n",
    "plt.show()"
   ]
  }
 ],
 "metadata": {
  "kernelspec": {
   "display_name": "Python 3",
   "language": "python",
   "name": "python3"
  },
  "language_info": {
   "codemirror_mode": {
    "name": "ipython",
    "version": 3
   },
   "file_extension": ".py",
   "mimetype": "text/x-python",
   "name": "python",
   "nbconvert_exporter": "python",
   "pygments_lexer": "ipython3",
   "version": "3.7.1"
  },
  "pycharm": {
   "stem_cell": {
    "cell_type": "raw",
    "metadata": {
     "collapsed": false
    },
    "source": []
   }
  }
 },
 "nbformat": 4,
 "nbformat_minor": 4
}
